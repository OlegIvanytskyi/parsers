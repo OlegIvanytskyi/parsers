{
 "cells": [
  {
   "cell_type": "code",
   "execution_count": 1,
   "metadata": {},
   "outputs": [],
   "source": [
    "from helper import *"
   ]
  },
  {
   "cell_type": "markdown",
   "metadata": {},
   "source": [
    "## Pets"
   ]
  },
  {
   "cell_type": "code",
   "execution_count": null,
   "metadata": {},
   "outputs": [],
   "source": [
    "articles = []\n",
    "page_num = 1\n",
    "article_num = 0\n",
    "\n",
    "while True:\n",
    "    url = 'https://www.beobachter.ch/familie/haustiere?page={}#page'.format(page_num)\n",
    "    page = requests.get(url)    \n",
    "    #pp.pprint(page.content)\n",
    "    \n",
    "    soup = BeautifulSoup(page.content, 'html.parser')\n",
    "    divs = soup.find_all('div', class_='_23Qt4XY-') #find all rows of articles\n",
    "    #print(divs)\n",
    "    \n",
    "    if divs == []:\n",
    "        break\n",
    "\n",
    "    for div in divs[1:]:\n",
    "        sub_divs = div.find_all('a', class_='_2p02b0mw teaser-m-default') #find all columns with articles\n",
    "        #print(sub_divs)\n",
    "        \n",
    "        for sub_div in sub_divs:\n",
    "            teaser_headline = sub_div.find('div', class_='_2QZpcT0M _3du5gVzi _3iAkatGy')\n",
    "            teaser = sub_div.find('div', class_='_2QcjsKyb M6MeFidn')\n",
    "            \n",
    "            if None in (teaser_headline, teaser):\n",
    "                continue\n",
    "\n",
    "            teaser_headline = teaser_headline.text.strip()\n",
    "            teaser = teaser.text.strip()[:-5] #[:-5] to throw away the word \"more\"\n",
    "            articles.append([teaser_headline, teaser])\n",
    "            article_num += 1\n",
    "        \n",
    "            if article_num % 50 == 0:\n",
    "                print(article_num)\n",
    "        \n",
    "    page_num += 1\n",
    "print('Total number of articles:', article_num)"
   ]
  },
  {
   "cell_type": "code",
   "execution_count": null,
   "metadata": {},
   "outputs": [],
   "source": [
    "write_to_file(articles, 'pers', 'beobachter_ch')"
   ]
  }
 ],
 "metadata": {
  "kernelspec": {
   "display_name": "Python 3",
   "language": "python",
   "name": "python3"
  },
  "language_info": {
   "codemirror_mode": {
    "name": "ipython",
    "version": 3
   },
   "file_extension": ".py",
   "mimetype": "text/x-python",
   "name": "python",
   "nbconvert_exporter": "python",
   "pygments_lexer": "ipython3",
   "version": "3.7.2"
  }
 },
 "nbformat": 4,
 "nbformat_minor": 2
}
