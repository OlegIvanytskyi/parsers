{
 "cells": [
  {
   "cell_type": "code",
   "execution_count": 5,
   "metadata": {},
   "outputs": [],
   "source": [
    "from helper import *"
   ]
  },
  {
   "cell_type": "code",
   "execution_count": 6,
   "metadata": {},
   "outputs": [],
   "source": [
    "categories = {'career' : 'karriere', 'travel' : 'reise',\n",
    "              'realestate' : 'immobilien'}"
   ]
  },
  {
   "cell_type": "code",
   "execution_count": 7,
   "metadata": {},
   "outputs": [
    {
     "name": "stdout",
     "output_type": "stream",
     "text": [
      "Working with career category\n",
      "Number of pages: 8\n",
      "50\n",
      "100\n",
      "150\n",
      "Finished working with career category. Scraped 196 articles\n",
      "\n",
      "196 articles of career category have been scraped from finanzen_net\n",
      "\n",
      "__________________________________________________________________________\n",
      "Working with travel category\n",
      "Number of pages: 5\n",
      "50\n",
      "100\n",
      "Finished working with travel category. Scraped 110 articles\n",
      "\n",
      "110 articles of travel category have been scraped from finanzen_net\n",
      "\n",
      "__________________________________________________________________________\n",
      "Working with realestate category\n",
      "Number of pages: 40\n",
      "50\n",
      "100\n",
      "150\n",
      "200\n",
      "250\n",
      "300\n",
      "350\n",
      "400\n",
      "450\n",
      "500\n",
      "550\n",
      "600\n",
      "650\n",
      "700\n",
      "750\n",
      "800\n",
      "850\n",
      "900\n",
      "950\n",
      "Finished working with realestate category. Scraped 957 articles\n",
      "\n",
      "957 articles of realestate category have been scraped from finanzen_net\n",
      "\n",
      "__________________________________________________________________________\n"
     ]
    }
   ],
   "source": [
    "for category, path in categories.items():\n",
    "    print(f'Working with {category} category')\n",
    "\n",
    "    articles = []\n",
    "    page_num = 1\n",
    "\n",
    "    while True:\n",
    "        url = f'https://www.finanzen.net/nachrichten/rubrik/{path}@intpagenr_{page_num}'\n",
    "        page = requests.get(url)\n",
    "\n",
    "        soup = BeautifulSoup(page.content, 'html.parser')\n",
    "        \n",
    "        if page_num == 1:\n",
    "            try:\n",
    "                limit = int(soup.find('div', class_='paging clear-block clearfix').find('a', class_='last').text)\n",
    "                print(f'Number of pages: {limit}')\n",
    "            except AttributeError:\n",
    "                limit = 1\n",
    "        \n",
    "        table = soup.find('table', class_='table news-list')\n",
    "\n",
    "        if table is None:\n",
    "            break\n",
    "\n",
    "        news_list = table.find_all('tr')\n",
    "        for news in news_list:\n",
    "            teaser_headline = news.find('span', class_='teaser-headline')\n",
    "            teaser = news.find('div', class_='teaser')\n",
    "\n",
    "            if None in (teaser_headline, teaser):\n",
    "                continue\n",
    "\n",
    "            teaser_headline = teaser_headline.text.strip()\n",
    "            teaser = teaser.text.strip()[:-5] #[:-5] to throw away the word \"mehr\"\n",
    "            articles.append([teaser_headline, teaser])\n",
    "\n",
    "            if len(articles) % 50 == 0:\n",
    "                print(len(articles))\n",
    "\n",
    "        page_num += 1\n",
    "        if page_num > limit:\n",
    "            break\n",
    "\n",
    "    print(f'Finished working with {category} category. Scraped {len(articles)} articles\\n')\n",
    "    write_to_file(articles, category, 'finanzen_net')\n",
    "    print('__________________________________________________________________________')"
   ]
  }
 ],
 "metadata": {
  "kernelspec": {
   "display_name": "Python 3",
   "language": "python",
   "name": "python3"
  },
  "language_info": {
   "codemirror_mode": {
    "name": "ipython",
    "version": 3
   },
   "file_extension": ".py",
   "mimetype": "text/x-python",
   "name": "python",
   "nbconvert_exporter": "python",
   "pygments_lexer": "ipython3",
   "version": "3.7.2"
  }
 },
 "nbformat": 4,
 "nbformat_minor": 2
}
