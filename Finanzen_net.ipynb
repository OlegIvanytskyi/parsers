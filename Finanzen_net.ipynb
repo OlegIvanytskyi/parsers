{
 "cells": [
  {
   "cell_type": "code",
   "execution_count": 2,
   "metadata": {},
   "outputs": [],
   "source": [
    "from helper import *"
   ]
  },
  {
   "cell_type": "code",
   "execution_count": 4,
   "metadata": {},
   "outputs": [],
   "source": [
    "articles = []\n",
    "page_num = 1\n",
    "\n",
    "while True:\n",
    "    url = f'https://www.finanzen.net/nachrichten/rubrik/immobilien@intpagenr_{page_num}'\n",
    "    page = requests.get(url)\n",
    "        \n",
    "    soup = BeautifulSoup(page.content, 'html.parser')\n",
    "    table = soup.find('table', class_='table news-list')\n",
    "\n",
    "    if table is None:\n",
    "        break\n",
    "\n",
    "    news_list = table.find_all('tr')\n",
    "    for news in news_list:\n",
    "        teaser_headline = news.find('span', class_='teaser-headline')\n",
    "        teaser = news.find('div', class_='teaser')\n",
    "    \n",
    "        if None in (teaser_headline, teaser):\n",
    "            continue\n",
    "        \n",
    "        teaser_headline = teaser_headline.text.strip()\n",
    "        teaser = teaser.text.strip()[:-5] #[:-5] to throw away the word \"more\"\n",
    "        articles.append([teaser_headline, teaser])\n",
    "        article_num += 1\n",
    "        \n",
    "        if len(articles) % 50 == 0:\n",
    "            print(len(articles))\n",
    "        \n",
    "    page_num += 1\n",
    "    \n",
    "write_to_file(articles, 'realestate', 'finanzen_net')"
   ]
  },
  {
   "cell_type": "code",
   "execution_count": null,
   "metadata": {},
   "outputs": [],
   "source": []
  }
 ],
 "metadata": {
  "kernelspec": {
   "display_name": "Python 3",
   "language": "python",
   "name": "python3"
  },
  "language_info": {
   "codemirror_mode": {
    "name": "ipython",
    "version": 3
   },
   "file_extension": ".py",
   "mimetype": "text/x-python",
   "name": "python",
   "nbconvert_exporter": "python",
   "pygments_lexer": "ipython3",
   "version": "3.7.2"
  }
 },
 "nbformat": 4,
 "nbformat_minor": 2
}
