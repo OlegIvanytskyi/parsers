{
 "cells": [
  {
   "cell_type": "code",
   "execution_count": 9,
   "metadata": {},
   "outputs": [],
   "source": [
    "from helper import *"
   ]
  },
  {
   "cell_type": "code",
   "execution_count": 11,
   "metadata": {},
   "outputs": [
    {
     "name": "stderr",
     "output_type": "stream",
     "text": [
      "[WDM] - Current google-chrome version is 84.0.4147\n",
      "[WDM] - Get LATEST driver version for 84.0.4147\n",
      "[WDM] - Driver [C:\\Users\\Oleg\\.wdm\\drivers\\chromedriver\\win32\\84.0.4147.30\\chromedriver.exe] found in cache\n"
     ]
    },
    {
     "name": "stdout",
     "output_type": "stream",
     "text": [
      " \n",
      "Number of scrolls down: 1000\n",
      "Finished working with lifehacks category. Scraped 1038 lines\n",
      "1038 lines of lifehacks category have been scraped from genialtricks_de\n",
      "\n",
      "______________________________________________________________________________\n",
      "\n",
      "\n"
     ]
    }
   ],
   "source": [
    "lines = []\n",
    "\n",
    "url = 'https://www.genialetricks.de/'\n",
    "\n",
    "browser = webdriver.Chrome(ChromeDriverManager().install())\n",
    "browser.get(url)\n",
    "\n",
    "elem = browser.find_element_by_tag_name(\"body\")\n",
    "\n",
    "n_pagedowns = 0\n",
    "for _ in range(1000):\n",
    "    elem.send_keys(Keys.PAGE_DOWN)\n",
    "    n_pagedowns += 1\n",
    "print(f'Number of scrolls down: {n_pagedowns}')\n",
    "\n",
    "arts = browser.find_elements_by_class_name(\"left-img-block\")\n",
    "    \n",
    "for article in arts:\n",
    "    try:\n",
    "        article_url = article.get_attribute('href')\n",
    "        article_page = requests.get(article_url)\n",
    "        soup = BeautifulSoup(article_page.content, 'html.parser')\n",
    "\n",
    "        teaser_headline = soup.find('meta', attrs={'property':'og:title'})['content']\n",
    "        teaser = soup.find('meta', attrs={'property':'og:description'})['content']\n",
    "\n",
    "        lines.append(teaser_headline)\n",
    "        lines.append(teaser)\n",
    "            \n",
    "    except AttributeError:\n",
    "        continue\n",
    "    \n",
    "print(f'Finished working with lifehacks category. Scraped {len(lines)} lines')\n",
    "write_to_file(lines, 'lifehacks', 'genialtricks_de')"
   ]
  }
 ],
 "metadata": {
  "kernelspec": {
   "display_name": "Python 3",
   "language": "python",
   "name": "python3"
  },
  "language_info": {
   "codemirror_mode": {
    "name": "ipython",
    "version": 3
   },
   "file_extension": ".py",
   "mimetype": "text/x-python",
   "name": "python",
   "nbconvert_exporter": "python",
   "pygments_lexer": "ipython3",
   "version": "3.7.2"
  }
 },
 "nbformat": 4,
 "nbformat_minor": 2
}
