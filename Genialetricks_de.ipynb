{
 "cells": [
  {
   "cell_type": "code",
   "execution_count": 4,
   "metadata": {},
   "outputs": [],
   "source": [
    "from helper import *"
   ]
  },
  {
   "cell_type": "code",
   "execution_count": 7,
   "metadata": {},
   "outputs": [
    {
     "name": "stderr",
     "output_type": "stream",
     "text": [
      "[WDM] - Current google-chrome version is 84.0.4147\n",
      "[WDM] - Get LATEST driver version for 84.0.4147\n",
      "[WDM] - Driver [C:\\Users\\Oleg\\.wdm\\drivers\\chromedriver\\win32\\84.0.4147.30\\chromedriver.exe] found in cache\n"
     ]
    },
    {
     "name": "stdout",
     "output_type": "stream",
     "text": [
      " \n",
      "Number of scrolls down: 500\n",
      "50\n",
      "100\n",
      "150\n",
      "200\n",
      "250\n",
      "300\n",
      "350\n",
      "400\n",
      "450\n",
      "500\n",
      "550\n",
      "600\n",
      "650\n",
      "700\n",
      "750\n",
      "800\n",
      "850\n",
      "900\n",
      "950\n",
      "1000\n",
      "Finished working with lifehacks category. Scraped 1042 lines\n",
      "1042 lines of lifehacks category have been scraped from genialtricks_de\n",
      "\n",
      "______________________________________________________________________________\n"
     ]
    }
   ],
   "source": [
    "lines = []\n",
    "\n",
    "url = 'https://www.genialetricks.de/'\n",
    "\n",
    "browser = webdriver.Chrome(ChromeDriverManager().install())\n",
    "browser.get(url)\n",
    "\n",
    "elem = browser.find_element_by_tag_name(\"body\")\n",
    "\n",
    "n_pagedowns = 0\n",
    "for _ in range(500):\n",
    "    elem.send_keys(Keys.PAGE_DOWN)\n",
    "    n_pagedowns += 1\n",
    "print(f'Number of scrolls down: {n_pagedowns}')\n",
    "\n",
    "arts = browser.find_elements_by_class_name(\"left-img-block\")\n",
    "    \n",
    "for article in arts:\n",
    "    try:\n",
    "        article_url = article.get_attribute('href')\n",
    "        article_page = requests.get(article_url)\n",
    "        soup = BeautifulSoup(article_page.content, 'html.parser')\n",
    "\n",
    "        teaser_headline = soup.find('h1', class_='post-title-container js-headline')\n",
    "        teaser = soup.find('div', class_='post-content')\n",
    "        try:\n",
    "            teaser = teaser.find('img')['data-pin-description']\n",
    "        except:\n",
    "            teaser = teaser.find('p').text\n",
    "\n",
    "        if None in (teaser_headline, teaser):\n",
    "            continue\n",
    "\n",
    "        teaser_headline = teaser_headline.text.strip()\n",
    "        teaser = re.sub('#.+', '', teaser.strip().split('\\n')[0].strip()).strip()\n",
    "\n",
    "        lines.append(teaser_headline)\n",
    "        lines.append(teaser)\n",
    "\n",
    "        if len(lines) % 50 == 0:\n",
    "            print(len(lines))\n",
    "            \n",
    "    except AttributeError:\n",
    "        continue\n",
    "    \n",
    "print(f'Finished working with lifehacks category. Scraped {len(lines)} lines')\n",
    "write_to_file(lines, 'lifehacks', 'genialtricks_de')"
   ]
  }
 ],
 "metadata": {
  "kernelspec": {
   "display_name": "Python 3",
   "language": "python",
   "name": "python3"
  },
  "language_info": {
   "codemirror_mode": {
    "name": "ipython",
    "version": 3
   },
   "file_extension": ".py",
   "mimetype": "text/x-python",
   "name": "python",
   "nbconvert_exporter": "python",
   "pygments_lexer": "ipython3",
   "version": "3.7.2"
  }
 },
 "nbformat": 4,
 "nbformat_minor": 2
}
