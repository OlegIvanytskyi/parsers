{
 "cells": [
  {
   "cell_type": "code",
   "execution_count": 1,
   "metadata": {},
   "outputs": [],
   "source": [
    "from helper import *"
   ]
  },
  {
   "cell_type": "code",
   "execution_count": null,
   "metadata": {},
   "outputs": [],
   "source": [
    "articles = []\n",
    "article_num = 0\n",
    "no_of_pagedowns = 200\n",
    "\n",
    "url = 'https://www.genialetricks.de/'\n",
    "\n",
    "browser = webdriver.Chrome()\n",
    "browser.get(url)\n",
    "\n",
    "elem = browser.find_element_by_tag_name(\"body\")\n",
    "\n",
    "while no_of_pagedowns:\n",
    "    elem.send_keys(Keys.PAGE_DOWN)\n",
    "    no_of_pagedowns -= 1\n",
    "print('Number of scrolls down:', (200 - no_of_pagedowns)) #change 200 if you change no_of_pagedowns on top of this cell\n",
    "\n",
    "articles = browser.find_elements_by_class_name(\"left-img-block\")\n",
    "\n",
    "#for post in post_elems:\n",
    "#    print(post.text)   \n",
    "    \n",
    "for article in articles:\n",
    "    article_url = article.get_attribute('href')\n",
    "    article_page = requests.get(article_url)\n",
    "    soup = BeautifulSoup(article_page.content, 'html.parser')\n",
    "    \n",
    "    teaser_headline = soup.find('h1', class_='post-title-container js-headline')\n",
    "    teaser = soup.find('div', class_='post-content')\n",
    "    try:\n",
    "        teaser = teaser.find('img')['data-pin-description']\n",
    "    except:\n",
    "        teaser = teaser.find('p').text\n",
    "    \n",
    "    if None in (teaser_headline, teaser):\n",
    "        continue\n",
    "\n",
    "    teaser_headline = teaser_headline.text.strip()\n",
    "    teaser = re.sub('#.+', '', teaser.strip().split('\\n')[0].strip()).strip()\n",
    "\n",
    "    articles.append([teaser_headline, teaser])\n",
    "    article_num += 1\n",
    "        \n",
    "    if article_num % 50 == 0:\n",
    "        print(article_num)\n",
    "    \n",
    "print('Total number of articles:', article_num)"
   ]
  },
  {
   "cell_type": "code",
   "execution_count": null,
   "metadata": {},
   "outputs": [],
   "source": [
    "write_to_file(articles, 'lifehacks', 'genialtricks_de')"
   ]
  }
 ],
 "metadata": {
  "kernelspec": {
   "display_name": "Python 3",
   "language": "python",
   "name": "python3"
  },
  "language_info": {
   "codemirror_mode": {
    "name": "ipython",
    "version": 3
   },
   "file_extension": ".py",
   "mimetype": "text/x-python",
   "name": "python",
   "nbconvert_exporter": "python",
   "pygments_lexer": "ipython3",
   "version": "3.7.2"
  }
 },
 "nbformat": 4,
 "nbformat_minor": 2
}
