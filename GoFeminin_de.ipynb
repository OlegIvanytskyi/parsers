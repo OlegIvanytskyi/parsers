{
 "cells": [
  {
   "cell_type": "code",
   "execution_count": 1,
   "metadata": {},
   "outputs": [],
   "source": [
    "from helper import *"
   ]
  },
  {
   "cell_type": "markdown",
   "metadata": {},
   "source": [
    "## Lifehacks"
   ]
  },
  {
   "cell_type": "code",
   "execution_count": null,
   "metadata": {},
   "outputs": [],
   "source": [
    "articles = []\n",
    "page_num = 1\n",
    "article_num = 0\n",
    "\n",
    "while True:\n",
    "    url = 'https://www.gofeminin.de/wohnen/life-hacks-tp96841.html?p={}'.format(page_num)\n",
    "    page = requests.get(url)    \n",
    "    #pp.pprint(page.content)\n",
    "    \n",
    "    soup = BeautifulSoup(page.content, 'html.parser')\n",
    "    div = soup.find('div', class_='af-col-center tagpage')\n",
    "    #print(div)\n",
    "    \n",
    "    sub_divs = div.find_all('div', class_='search-item')\n",
    "    #print(sub_divs)\n",
    "    \n",
    "    if sub_divs == []:\n",
    "        break\n",
    "        \n",
    "    for sub_div in sub_divs:\n",
    "        teaser_headline = sub_div.find('a', class_='title')\n",
    "        teaser = sub_div.find('p')\n",
    "        \n",
    "        if None in (teaser_headline, teaser):\n",
    "            continue\n",
    "\n",
    "        teaser_headline = teaser_headline.text.strip()\n",
    "        teaser = teaser.text.strip()\n",
    "\n",
    "        articles.append([teaser_headline, teaser])\n",
    "        article_num += 1\n",
    "        \n",
    "        if article_num % 50 == 0:\n",
    "            print(article_num)\n",
    "    \n",
    "    page_num += 1\n",
    "print('Total number of articles:', article_num)"
   ]
  },
  {
   "cell_type": "code",
   "execution_count": null,
   "metadata": {},
   "outputs": [],
   "source": [
    "write_to_file(articles, 'lifehacks', 'gofeminin_de')"
   ]
  }
 ],
 "metadata": {
  "kernelspec": {
   "display_name": "Python 3",
   "language": "python",
   "name": "python3"
  },
  "language_info": {
   "codemirror_mode": {
    "name": "ipython",
    "version": 3
   },
   "file_extension": ".py",
   "mimetype": "text/x-python",
   "name": "python",
   "nbconvert_exporter": "python",
   "pygments_lexer": "ipython3",
   "version": "3.7.2"
  }
 },
 "nbformat": 4,
 "nbformat_minor": 2
}
