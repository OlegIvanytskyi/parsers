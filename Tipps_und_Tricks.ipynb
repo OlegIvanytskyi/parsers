{
 "cells": [
  {
   "cell_type": "code",
   "execution_count": 1,
   "metadata": {},
   "outputs": [],
   "source": [
    "from helper import *"
   ]
  },
  {
   "cell_type": "code",
   "execution_count": 2,
   "metadata": {},
   "outputs": [],
   "source": [
    "categories = {'home' : 'hausundgarten', 'health' : 'gesundheit', 'lifehacks' : 'lifehacks'}"
   ]
  },
  {
   "cell_type": "code",
   "execution_count": 3,
   "metadata": {},
   "outputs": [
    {
     "name": "stdout",
     "output_type": "stream",
     "text": [
      "Working with home category\n",
      "50\n",
      "100\n",
      "150\n",
      "200\n",
      "Finished working with home category. Scraped 218 articles\n",
      "\n",
      "\n",
      "218 articles of home category scraped from tipps_und_tricks\n",
      "\n",
      "Working with health category\n",
      "50\n",
      "100\n",
      "150\n",
      "200\n",
      "250\n",
      "300\n",
      "350\n",
      "Finished working with health category. Scraped 381 articles\n",
      "\n",
      "\n",
      "381 articles of health category scraped from tipps_und_tricks\n",
      "\n",
      "Working with lifehacks category\n",
      "50\n",
      "100\n",
      "150\n",
      "200\n",
      "250\n",
      "Finished working with lifehacks category. Scraped 272 articles\n",
      "\n",
      "\n",
      "272 articles of lifehacks category scraped from tipps_und_tricks\n",
      "\n"
     ]
    }
   ],
   "source": [
    "for category, path in categories.items():\n",
    "    print(f'Working with {category} category')\n",
    "    \n",
    "    articles = []\n",
    "    \n",
    "    page_num = 1\n",
    "    \n",
    "    while True:\n",
    "        try:\n",
    "            url = f'https://www.tippsundtricks.co/category/{path}/page/{page_num}/'\n",
    "            page = requests.get(url)\n",
    "\n",
    "            soup = BeautifulSoup(page.content, 'html.parser')\n",
    "            div = soup.find('div', class_='article')\n",
    "                \n",
    "            if div is None:\n",
    "                break\n",
    "                                \n",
    "            arts = div.find_all('article')\n",
    "                        \n",
    "            if arts == []:\n",
    "                break\n",
    "                \n",
    "            for art in arts:\n",
    "                \n",
    "                teaser_headline = art.find('h2')\n",
    "                teaser_url = teaser_headline.find('a')['href']\n",
    "\n",
    "                article_page = requests.get(teaser_url)\n",
    "                soup = BeautifulSoup(article_page.content, 'html.parser')\n",
    "                \n",
    "                post = soup.find('div', class_='single_post')\n",
    "                try:\n",
    "                    teaser = post.find_all('b')[0]\n",
    "                except IndexError:\n",
    "                    try:\n",
    "                        teaser = post.find_all('strong')[0]\n",
    "                    except:\n",
    "                        teaser = None\n",
    "\n",
    "                if None in (teaser_headline, teaser):\n",
    "                    continue\n",
    "                    \n",
    "                teaser_headline = teaser_headline.text.strip()\n",
    "                teaser = teaser.text.strip()\n",
    "                \n",
    "                articles.append([teaser_headline, teaser])\n",
    "                \n",
    "                if len(articles) % 50 == 0:\n",
    "                    print(len(articles))\n",
    "                    \n",
    "            page_num += 1\n",
    "                    \n",
    "        except:\n",
    "            break\n",
    "            \n",
    "    print(f'Finished working with {category} category. Scraped {len(articles)} articles\\n\\n')\n",
    "    write_to_file(articles, category, 'tipps_und_tricks')"
   ]
  }
 ],
 "metadata": {
  "kernelspec": {
   "display_name": "Python 3",
   "language": "python",
   "name": "python3"
  },
  "language_info": {
   "codemirror_mode": {
    "name": "ipython",
    "version": 3
   },
   "file_extension": ".py",
   "mimetype": "text/x-python",
   "name": "python",
   "nbconvert_exporter": "python",
   "pygments_lexer": "ipython3",
   "version": "3.7.2"
  }
 },
 "nbformat": 4,
 "nbformat_minor": 2
}
