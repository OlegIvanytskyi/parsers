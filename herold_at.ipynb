{
 "cells": [
  {
   "cell_type": "code",
   "execution_count": null,
   "metadata": {},
   "outputs": [],
   "source": [
    "articles_hobbies2 = []\n",
    "lines = 0\n",
    "\n",
    "url = 'https://www.herold.at/blog/neues-hobby-finden/'\n",
    "page = requests.get(url)\n",
    "#pp.pprint(page.content) #to show the whole web page as output\n",
    "\n",
    "soup = BeautifulSoup(page.content, 'html.parser')\n",
    "div = soup.find('div', class_='col-md-9 main-content')\n",
    "\n",
    "ps = div.find_all('p')\n",
    "h2s = div.find_all('h2')\n",
    "h3s = div.find_all('h3')\n",
    "\n",
    "for text in ps + h2s + h3s:\n",
    "    text = text.text.strip()\n",
    "    articles_hobbies2.append(text)\n",
    "    lines += 1\n",
    "\n",
    "    if lines % 50 == 0:\n",
    "        print(lines)\n",
    "    \n",
    "print('Total number of lines:', lines)"
   ]
  }
 ],
 "metadata": {
  "kernelspec": {
   "display_name": "Python 3",
   "language": "python",
   "name": "python3"
  },
  "language_info": {
   "codemirror_mode": {
    "name": "ipython",
    "version": 3
   },
   "file_extension": ".py",
   "mimetype": "text/x-python",
   "name": "python",
   "nbconvert_exporter": "python",
   "pygments_lexer": "ipython3",
   "version": "3.7.2"
  }
 },
 "nbformat": 4,
 "nbformat_minor": 2
}
