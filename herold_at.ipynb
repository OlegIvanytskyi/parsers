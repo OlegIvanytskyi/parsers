{
 "cells": [
  {
   "cell_type": "code",
   "execution_count": 1,
   "metadata": {},
   "outputs": [],
   "source": [
    "from helper import *"
   ]
  },
  {
   "cell_type": "code",
   "execution_count": 2,
   "metadata": {},
   "outputs": [
    {
     "name": "stdout",
     "output_type": "stream",
     "text": [
      "50\n",
      "100\n",
      "Finished working with hobbies category. Scraped 119 articles\n",
      "119 lines of hobbies category have been scraped from herold_at\n",
      "\n",
      "______________________________________________________________________________\n"
     ]
    }
   ],
   "source": [
    "lines = []\n",
    "\n",
    "url = 'https://www.herold.at/blog/neues-hobby-finden/'\n",
    "page = requests.get(url)\n",
    "\n",
    "soup = BeautifulSoup(page.content, 'html.parser')\n",
    "div = soup.find('div', class_='col-md-9 main-content')\n",
    "\n",
    "ps = div.find_all('p')\n",
    "h2s = div.find_all('h2')\n",
    "h3s = div.find_all('h3')\n",
    "\n",
    "for text in ps + h2s + h3s:\n",
    "    text = text.text.strip()\n",
    "    lines.append(text)\n",
    "\n",
    "    if len(lines) % 50 == 0:\n",
    "        print(len(lines))\n",
    "    \n",
    "print(f'Finished working with hobbies category. Scraped {len(lines)} articles')\n",
    "write_to_file(lines, 'hobbies', 'herold_at')"
   ]
  }
 ],
 "metadata": {
  "kernelspec": {
   "display_name": "Python 3",
   "language": "python",
   "name": "python3"
  },
  "language_info": {
   "codemirror_mode": {
    "name": "ipython",
    "version": 3
   },
   "file_extension": ".py",
   "mimetype": "text/x-python",
   "name": "python",
   "nbconvert_exporter": "python",
   "pygments_lexer": "ipython3",
   "version": "3.7.2"
  }
 },
 "nbformat": 4,
 "nbformat_minor": 2
}
