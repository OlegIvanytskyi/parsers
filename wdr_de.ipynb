{
 "cells": [
  {
   "cell_type": "code",
   "execution_count": 1,
   "metadata": {},
   "outputs": [],
   "source": [
    "from helper import *"
   ]
  },
  {
   "cell_type": "markdown",
   "metadata": {},
   "source": [
    "## Hobbies category"
   ]
  },
  {
   "cell_type": "code",
   "execution_count": 2,
   "metadata": {},
   "outputs": [
    {
     "name": "stdout",
     "output_type": "stream",
     "text": [
      "50\n",
      "100\n",
      "150\n",
      "200\n",
      "250\n",
      "300\n",
      "350\n",
      "400\n",
      "Finished working with hobbies category. Scraped 400 articles\n",
      "\n",
      "\n",
      "400 articles of hobbies category have been scraped from wdr_de\n",
      "\n",
      "______________________________________________________________________________\n"
     ]
    }
   ],
   "source": [
    "articles = []\n",
    "page_num = 1\n",
    "\n",
    "while True:\n",
    "    url = 'https://www1.wdr.de/suche/index.jsp?pageNumber={}&q=hobby&sort=score#customForm-cptblock-wdrsucheinclude100'.format(page_num)\n",
    "    page = requests.get(url)\n",
    "        \n",
    "    soup = BeautifulSoup(page.content, 'html.parser')\n",
    "    div = soup.find_all('div', class_='boxCon')[2]\n",
    "    \n",
    "    if div is None:\n",
    "        break\n",
    "        \n",
    "    divs = div.find_all('div', class_='box')\n",
    "\n",
    "    if divs == []:\n",
    "        break\n",
    "\n",
    "    for div in divs:\n",
    "        teaser_headline = div.find('div', class_='teaser').find('h3', class_='headline')\n",
    "        teaser = div.find('div', class_='teaser').find('p', class_='teasertext')\n",
    "\n",
    "        teaser_headline = teaser_headline.text.strip()\n",
    "        teaser = teaser.text.strip()\n",
    "        \n",
    "        articles.append(teaser_headline)\n",
    "        articles.append(teaser)\n",
    "\n",
    "        if len(articles) % 50 == 0:\n",
    "            print(len(articles))\n",
    "    \n",
    "    page_num += 1\n",
    "    if page_num > 20:  # 20 - number of pages\n",
    "        break\n",
    "        \n",
    "print(f'Finished working with hobbies category. Scraped {len(articles)} articles\\n\\n')\n",
    "write_to_file(articles, 'hobbies', 'wdr_de')"
   ]
  }
 ],
 "metadata": {
  "kernelspec": {
   "display_name": "Python 3",
   "language": "python",
   "name": "python3"
  },
  "language_info": {
   "codemirror_mode": {
    "name": "ipython",
    "version": 3
   },
   "file_extension": ".py",
   "mimetype": "text/x-python",
   "name": "python",
   "nbconvert_exporter": "python",
   "pygments_lexer": "ipython3",
   "version": "3.7.2"
  }
 },
 "nbformat": 4,
 "nbformat_minor": 2
}
