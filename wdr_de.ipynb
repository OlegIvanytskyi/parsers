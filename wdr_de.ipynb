{
 "cells": [
  {
   "cell_type": "code",
   "execution_count": null,
   "metadata": {},
   "outputs": [],
   "source": [
    "articles_hobbies3 = []\n",
    "page_num = 1\n",
    "article_num = 0\n",
    "\n",
    "while True:\n",
    "    url = 'https://www1.wdr.de/suche/index.jsp?pageNumber={}&q=hobby&sort=score#customForm-cptblock-wdrsucheinclude100'.format(page_num)\n",
    "    page = requests.get(url)\n",
    "    #pp.pprint(page.content) #to show the whole web page as output\n",
    "        \n",
    "    soup = BeautifulSoup(page.content, 'html.parser')\n",
    "    div = soup.find_all('div', class_='boxCon')[2]\n",
    "    \n",
    "    if div is None:\n",
    "        break\n",
    "        \n",
    "    divs = div.find_all('div', class_='box')\n",
    "\n",
    "    if divs == []:\n",
    "        break\n",
    "\n",
    "    for div in divs:\n",
    "        teaser_headline = div.find('div', class_='teaser').find('h3', class_='headline')\n",
    "        teaser = div.find('div', class_='teaser').find('p', class_='teasertext')\n",
    "\n",
    "        teaser_headline = teaser_headline.text.strip()\n",
    "        teaser = teaser.text.strip()\n",
    "        articles_hobbies3.append([teaser_headline, teaser])\n",
    "        article_num += 1\n",
    "\n",
    "        if article_num % 50 == 0:\n",
    "            print(article_num)\n",
    "    \n",
    "    page_num += 1\n",
    "    if page_num > 20:\n",
    "        break\n",
    "print('Total number of articles:', article_num)"
   ]
  }
 ],
 "metadata": {
  "kernelspec": {
   "display_name": "Python 3",
   "language": "python",
   "name": "python3"
  },
  "language_info": {
   "codemirror_mode": {
    "name": "ipython",
    "version": 3
   },
   "file_extension": ".py",
   "mimetype": "text/x-python",
   "name": "python",
   "nbconvert_exporter": "python",
   "pygments_lexer": "ipython3",
   "version": "3.7.2"
  }
 },
 "nbformat": 4,
 "nbformat_minor": 2
}
